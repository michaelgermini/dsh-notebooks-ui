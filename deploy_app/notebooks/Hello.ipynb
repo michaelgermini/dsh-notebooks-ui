{
  "cells": [
    {
      "cell_type": "markdown",
      "metadata": {},
      "source": [
        "# Hello Notebook\n",
        "\n",
        "Ce notebook de test est servi depuis `deploy_app/notebooks`.\n"
      ]
    },
    {
      "cell_type": "code",
      "execution_count": null,
      "metadata": {},
      "outputs": [],
      "source": [
        "print('Bonjour depuis Streamlit fallback local!')\n"
      ]
    }
  ],
  "metadata": {
    "language_info": {
      "name": "python"
    }
  },
  "nbformat": 4,
  "nbformat_minor": 2
}
